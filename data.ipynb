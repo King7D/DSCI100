{
 "cells": [
  {
   "cell_type": "markdown",
   "id": "d51fc2b3-f721-468c-bb1f-0ef130b3125d",
   "metadata": {},
   "source": [
    "---\n",
    "## Title: \"Predicting the Severity of Heart Disease Using Cleveland Heart Disease Dataset\"\n",
    "- Author: Eric Wang\n",
    "- Date: 2024-06-08\n",
    "---\n",
    "## Introduction\n",
    "Heart disease is a major health concern worldwide, accounting for millions of deaths each year. Early detection and prevention are crucial in managing and reducing the risk of heart disease. Machine learning models play a crucial role in predicting the likelihood of heart disease in individuals. These models assist doctors in diagnosing heart disease more quickly and accurately, enabling timely medical interventions.\n",
    "\n",
    "In this project, I aim to develop a predictive model using the Cleveland Heart Disease dataset to determine the likelihood of an individual having heart disease based on various medical attributes and lifestyle factors. The primary question this project seeks to answer is: **\"Is it possible to predict the severity of heart disease based on chest pain type, resting blood pressure, and thalassemia across all age groups and genders?\"**\n"
   ]
  },
  {
   "cell_type": "markdown",
   "id": "fb04fc70-7131-4189-a1c7-d5c77c8b9c59",
   "metadata": {},
   "source": [
    "---\n",
    "## Variables Used In Prediction\n",
    "- **age_group**: The age of the patient categorized into different groups\n",
    "    - Children: Age ≤ 17 years\n",
    "    - Young Adults: Age 18 to 34 years\n",
    "    - Adults: Age 35 to 49 years\n",
    "    - Middle-aged Adults: Age 50 to 64 years\n",
    "    - Seniors: Age ≥ 65 years\n",
    "- **sex**: The biological sex of the patient\n",
    "    - Male\n",
    "    - Female\n",
    "- **cp**: chest pain type\n",
    "  - Value 1: typical angina\n",
    "  - Value 2: atypical angina\n",
    "  - Value 3: non-anginal pain\n",
    "  - Value 4: asymptomatic\n",
    "- **trestbps**: resting blood pressure (in mm Hg on admission to the hospital)\n",
    "- **thal**: 3 = normal; 6 = fixed defect; 7 = reversible defect\n",
    "- **num**: diagnosis of heart disease (angiographic disease status)\n",
    "  - Value 0: < 50% diameter narrowing\n",
    "  - Value 1: > 50% diameter narrowing (in any major vessel: attributes 59 through 68 are vessels)\n",
    "---"
   ]
  },
  {
   "cell_type": "code",
   "execution_count": 42,
   "id": "9845f673-de34-4202-b5e7-09a5259a04bc",
   "metadata": {},
   "outputs": [
    {
     "name": "stderr",
     "output_type": "stream",
     "text": [
      "── \u001b[1mAttaching packages\u001b[22m ────────────────────────────────────── tidymodels 1.1.1 ──\n",
      "\n",
      "\u001b[32m✔\u001b[39m \u001b[34mbroom       \u001b[39m 1.0.5     \u001b[32m✔\u001b[39m \u001b[34mrsample     \u001b[39m 1.2.0\n",
      "\u001b[32m✔\u001b[39m \u001b[34mdials       \u001b[39m 1.2.0     \u001b[32m✔\u001b[39m \u001b[34mtune        \u001b[39m 1.1.2\n",
      "\u001b[32m✔\u001b[39m \u001b[34minfer       \u001b[39m 1.0.5     \u001b[32m✔\u001b[39m \u001b[34mworkflows   \u001b[39m 1.1.3\n",
      "\u001b[32m✔\u001b[39m \u001b[34mmodeldata   \u001b[39m 1.2.0     \u001b[32m✔\u001b[39m \u001b[34mworkflowsets\u001b[39m 1.0.1\n",
      "\u001b[32m✔\u001b[39m \u001b[34mparsnip     \u001b[39m 1.1.1     \u001b[32m✔\u001b[39m \u001b[34myardstick   \u001b[39m 1.2.0\n",
      "\u001b[32m✔\u001b[39m \u001b[34mrecipes     \u001b[39m 1.0.8     \n",
      "\n",
      "── \u001b[1mConflicts\u001b[22m ───────────────────────────────────────── tidymodels_conflicts() ──\n",
      "\u001b[31m✖\u001b[39m \u001b[34mscales\u001b[39m::\u001b[32mdiscard()\u001b[39m masks \u001b[34mpurrr\u001b[39m::discard()\n",
      "\u001b[31m✖\u001b[39m \u001b[34mdplyr\u001b[39m::\u001b[32mfilter()\u001b[39m   masks \u001b[34mstats\u001b[39m::filter()\n",
      "\u001b[31m✖\u001b[39m \u001b[34mrecipes\u001b[39m::\u001b[32mfixed()\u001b[39m  masks \u001b[34mstringr\u001b[39m::fixed()\n",
      "\u001b[31m✖\u001b[39m \u001b[34mdplyr\u001b[39m::\u001b[32mlag()\u001b[39m      masks \u001b[34mstats\u001b[39m::lag()\n",
      "\u001b[31m✖\u001b[39m \u001b[34myardstick\u001b[39m::\u001b[32mspec()\u001b[39m masks \u001b[34mreadr\u001b[39m::spec()\n",
      "\u001b[31m✖\u001b[39m \u001b[34mrecipes\u001b[39m::\u001b[32mstep()\u001b[39m   masks \u001b[34mstats\u001b[39m::step()\n",
      "\u001b[34m•\u001b[39m Use suppressPackageStartupMessages() to eliminate package startup messages\n",
      "\n",
      "\n",
      "Attaching package: ‘gridExtra’\n",
      "\n",
      "\n",
      "The following object is masked from ‘package:dplyr’:\n",
      "\n",
      "    combine\n",
      "\n",
      "\n"
     ]
    }
   ],
   "source": [
    "#load necessary libraries\n",
    "library(tidyverse)\n",
    "library(tidymodels)\n",
    "library(gridExtra)"
   ]
  },
  {
   "cell_type": "code",
   "execution_count": 39,
   "id": "766487b6-cf0d-456d-a0f1-9a0b74381c79",
   "metadata": {},
   "outputs": [
    {
     "name": "stderr",
     "output_type": "stream",
     "text": [
      "\u001b[1mRows: \u001b[22m\u001b[34m303\u001b[39m \u001b[1mColumns: \u001b[22m\u001b[34m14\u001b[39m\n",
      "\u001b[36m──\u001b[39m \u001b[1mColumn specification\u001b[22m \u001b[36m────────────────────────────────────────────────────────\u001b[39m\n",
      "\u001b[1mDelimiter:\u001b[22m \",\"\n",
      "\u001b[31mchr\u001b[39m  (2): ca, thal\n",
      "\u001b[32mdbl\u001b[39m (12): age, sex, cp, trestbps, chol, fbs, restecg, thalach, exang, oldpea...\n",
      "\n",
      "\u001b[36mℹ\u001b[39m Use `spec()` to retrieve the full column specification for this data.\n",
      "\u001b[36mℹ\u001b[39m Specify the column types or set `show_col_types = FALSE` to quiet this message.\n"
     ]
    }
   ],
   "source": [
    "#read the data and assign column names\n",
    "cleveland<-read_csv(\"data/heart_disease/processed.cleveland.data\",\n",
    "                    col_names=c(\"age\",\"sex\",\"cp\",\"trestbps\",\"chol\",\"fbs\",\"restecg\",\"thalach\",\"exang\",\"oldpeak\",\"slope\",\"ca\",\"thal\",\"num\"))\n",
    "\n",
    "cleveland<-cleveland|>\n",
    "#Define age groups\n",
    "mutate(age_group = case_when(\n",
    "    age <= 17 ~ \"Children\",\n",
    "    age >= 18 & age <= 34 ~ \"Young Adults\",\n",
    "    age >= 35 & age <= 49 ~ \"Adults\",\n",
    "    age >= 50 & age <= 64 ~ \"Middle-aged Adults\",\n",
    "    age >= 65 ~ \"Seniors\"))|>\n",
    "mutate(age_group=as.factor(age_group))|>\n",
    "\n",
    "#Convert sex to a factor and rename values\n",
    "mutate(cleveland,sex=as.factor(sex))|>\n",
    "mutate(sex=fct_recode(sex,\"Male\"=\"1\",\"Female\"=\"0\"))|>\n",
    "\n",
    "#Convert num to a factor\n",
    "mutate(num=as.factor(num))|>\n",
    "#Convert cp to a factor\n",
    "mutate(cp=as.factor(cp))|>\n",
    "\n",
    "#select specific columns for further analysis\n",
    "select(age_group,sex,cp,trestbps,thal,num)"
   ]
  },
  {
   "cell_type": "code",
   "execution_count": 40,
   "id": "de966e9e-36d2-4588-9310-76b9d4504ddd",
   "metadata": {},
   "outputs": [
    {
     "data": {
      "text/html": [
       "<table class=\"dataframe\">\n",
       "<caption>A tibble: 6 × 6</caption>\n",
       "<thead>\n",
       "\t<tr><th scope=col>age_group</th><th scope=col>sex</th><th scope=col>cp</th><th scope=col>trestbps</th><th scope=col>thal</th><th scope=col>num</th></tr>\n",
       "\t<tr><th scope=col>&lt;fct&gt;</th><th scope=col>&lt;fct&gt;</th><th scope=col>&lt;fct&gt;</th><th scope=col>&lt;dbl&gt;</th><th scope=col>&lt;chr&gt;</th><th scope=col>&lt;fct&gt;</th></tr>\n",
       "</thead>\n",
       "<tbody>\n",
       "\t<tr><td>Middle-aged Adults</td><td>Male  </td><td>1</td><td>145</td><td>6.0</td><td>0</td></tr>\n",
       "\t<tr><td>Seniors           </td><td>Male  </td><td>4</td><td>160</td><td>3.0</td><td>2</td></tr>\n",
       "\t<tr><td>Seniors           </td><td>Male  </td><td>4</td><td>120</td><td>7.0</td><td>1</td></tr>\n",
       "\t<tr><td>Adults            </td><td>Male  </td><td>3</td><td>130</td><td>3.0</td><td>0</td></tr>\n",
       "\t<tr><td>Adults            </td><td>Female</td><td>2</td><td>130</td><td>3.0</td><td>0</td></tr>\n",
       "\t<tr><td>Middle-aged Adults</td><td>Male  </td><td>2</td><td>120</td><td>3.0</td><td>0</td></tr>\n",
       "</tbody>\n",
       "</table>\n"
      ],
      "text/latex": [
       "A tibble: 6 × 6\n",
       "\\begin{tabular}{llllll}\n",
       " age\\_group & sex & cp & trestbps & thal & num\\\\\n",
       " <fct> & <fct> & <fct> & <dbl> & <chr> & <fct>\\\\\n",
       "\\hline\n",
       "\t Middle-aged Adults & Male   & 1 & 145 & 6.0 & 0\\\\\n",
       "\t Seniors            & Male   & 4 & 160 & 3.0 & 2\\\\\n",
       "\t Seniors            & Male   & 4 & 120 & 7.0 & 1\\\\\n",
       "\t Adults             & Male   & 3 & 130 & 3.0 & 0\\\\\n",
       "\t Adults             & Female & 2 & 130 & 3.0 & 0\\\\\n",
       "\t Middle-aged Adults & Male   & 2 & 120 & 3.0 & 0\\\\\n",
       "\\end{tabular}\n"
      ],
      "text/markdown": [
       "\n",
       "A tibble: 6 × 6\n",
       "\n",
       "| age_group &lt;fct&gt; | sex &lt;fct&gt; | cp &lt;fct&gt; | trestbps &lt;dbl&gt; | thal &lt;chr&gt; | num &lt;fct&gt; |\n",
       "|---|---|---|---|---|---|\n",
       "| Middle-aged Adults | Male   | 1 | 145 | 6.0 | 0 |\n",
       "| Seniors            | Male   | 4 | 160 | 3.0 | 2 |\n",
       "| Seniors            | Male   | 4 | 120 | 7.0 | 1 |\n",
       "| Adults             | Male   | 3 | 130 | 3.0 | 0 |\n",
       "| Adults             | Female | 2 | 130 | 3.0 | 0 |\n",
       "| Middle-aged Adults | Male   | 2 | 120 | 3.0 | 0 |\n",
       "\n"
      ],
      "text/plain": [
       "  age_group          sex    cp trestbps thal num\n",
       "1 Middle-aged Adults Male   1  145      6.0  0  \n",
       "2 Seniors            Male   4  160      3.0  2  \n",
       "3 Seniors            Male   4  120      7.0  1  \n",
       "4 Adults             Male   3  130      3.0  0  \n",
       "5 Adults             Female 2  130      3.0  0  \n",
       "6 Middle-aged Adults Male   2  120      3.0  0  "
      ]
     },
     "metadata": {},
     "output_type": "display_data"
    }
   ],
   "source": [
    "#Print the first few rows to view the data\n",
    "head(cleveland)"
   ]
  },
  {
   "cell_type": "code",
   "execution_count": 45,
   "id": "9616b498-4094-4c3e-bf5f-db20e0fa696e",
   "metadata": {},
   "outputs": [],
   "source": [
    "#Split the data into training and testing sets with stratification\n",
    "cleveland_split<-initial_split(cleveland,prop=0.75,strata=num)\n",
    "#Training Set\n",
    "cl_training<-training(cleveland_split)\n",
    "#Testing Set\n",
    "cl_testing<-testing(cleveland_split)"
   ]
  },
  {
   "cell_type": "code",
   "execution_count": null,
   "id": "88258cb1-3d64-4625-95f0-9329246bf9a7",
   "metadata": {},
   "outputs": [],
   "source": []
  },
  {
   "cell_type": "markdown",
   "id": "50d41d4a-7531-44be-99f3-11a3c270d568",
   "metadata": {},
   "source": [
    "## Preliminary exploratory data analysis:\n",
    "- Demonstrate that the dataset can be read from the web into R \n",
    "- Clean and wrangle your data into a tidy format\n",
    "- Using only training data, summarize the data in at least one table (this is exploratory data analysis). An example of a useful table could be one that reports the number of observations in each class, the means of the predictor variables you plan to use in your analysis and how many rows have missing data\n",
    "- Using only training data, visualize the data with at least one plot relevant to the analysis you plan to do (this is exploratory data analysis). An example of a useful visualization could be one that compares the distributions of each of the predictor variables you plan to use in your analysis."
   ]
  },
  {
   "cell_type": "markdown",
   "id": "d67a7662-eb74-44b7-928a-25e62d222d86",
   "metadata": {},
   "source": [
    "d this lead to?"
   ]
  },
  {
   "cell_type": "code",
   "execution_count": null,
   "id": "055d408e-514b-4bcb-afa5-cbd8cfd28fe8",
   "metadata": {},
   "outputs": [],
   "source": []
  }
 ],
 "metadata": {
  "kernelspec": {
   "display_name": "R",
   "language": "R",
   "name": "ir"
  },
  "language_info": {
   "codemirror_mode": "r",
   "file_extension": ".r",
   "mimetype": "text/x-r-source",
   "name": "R",
   "pygments_lexer": "r",
   "version": "4.3.1"
  }
 },
 "nbformat": 4,
 "nbformat_minor": 5
}
