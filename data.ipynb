{
 "cells": [
  {
   "cell_type": "code",
   "execution_count": 3,
   "id": "ccba4ab3-7b3a-4278-8f94-8916204c1f66",
   "metadata": {},
   "outputs": [],
   "source": [
    "library(tidyverse)"
   ]
  },
  {
   "cell_type": "code",
   "execution_count": 8,
   "id": "653c81af-5bb6-4830-ab3a-89d10b5cf9d7",
   "metadata": {},
   "outputs": [
    {
     "name": "stderr",
     "output_type": "stream",
     "text": [
      "\u001b[1m\u001b[22mNew names:\n",
      "\u001b[36m•\u001b[39m `1.0` -> `1.0...2`\n",
      "\u001b[36m•\u001b[39m `1.0` -> `1.0...3`\n",
      "\u001b[36m•\u001b[39m `1.0` -> `1.0...6`\n",
      "\u001b[36m•\u001b[39m `0.0` -> `0.0...9`\n",
      "\u001b[36m•\u001b[39m `0.0` -> `0.0...12`\n",
      "\u001b[1mRows: \u001b[22m\u001b[34m302\u001b[39m \u001b[1mColumns: \u001b[22m\u001b[34m14\u001b[39m\n",
      "\u001b[36m──\u001b[39m \u001b[1mColumn specification\u001b[22m \u001b[36m────────────────────────────────────────────────────────\u001b[39m\n",
      "\u001b[1mDelimiter:\u001b[22m \",\"\n",
      "\u001b[31mchr\u001b[39m  (2): 0.0...12, 6.0\n",
      "\u001b[32mdbl\u001b[39m (12): 63.0, 1.0...2, 1.0...3, 145.0, 233.0, 1.0...6, 2.0, 150.0, 0.0...9...\n",
      "\n",
      "\u001b[36mℹ\u001b[39m Use `spec()` to retrieve the full column specification for this data.\n",
      "\u001b[36mℹ\u001b[39m Specify the column types or set `show_col_types = FALSE` to quiet this message.\n",
      "\u001b[1m\u001b[22mNew names:\n",
      "\u001b[36m•\u001b[39m `2` -> `2...3`\n",
      "\u001b[36m•\u001b[39m `0` -> `0...6`\n",
      "\u001b[36m•\u001b[39m `2` -> `2...7`\n",
      "\u001b[36m•\u001b[39m `0` -> `0...9`\n",
      "\u001b[36m•\u001b[39m `0` -> `0...10`\n",
      "\u001b[36m•\u001b[39m `?` -> `?...11`\n",
      "\u001b[36m•\u001b[39m `?` -> `?...12`\n",
      "\u001b[36m•\u001b[39m `?` -> `?...13`\n",
      "\u001b[36m•\u001b[39m `0` -> `0...14`\n",
      "\u001b[1mRows: \u001b[22m\u001b[34m293\u001b[39m \u001b[1mColumns: \u001b[22m\u001b[34m14\u001b[39m\n",
      "\u001b[36m──\u001b[39m \u001b[1mColumn specification\u001b[22m \u001b[36m────────────────────────────────────────────────────────\u001b[39m\n",
      "\u001b[1mDelimiter:\u001b[22m \",\"\n",
      "\u001b[31mchr\u001b[39m (9): 130, 132, 0...6, 2...7, 185, 0...9, ?...11, ?...12, ?...13\n",
      "\u001b[32mdbl\u001b[39m (5): 28, 1, 2...3, 0...10, 0...14\n",
      "\n",
      "\u001b[36mℹ\u001b[39m Use `spec()` to retrieve the full column specification for this data.\n",
      "\u001b[36mℹ\u001b[39m Specify the column types or set `show_col_types = FALSE` to quiet this message.\n",
      "\u001b[1m\u001b[22mNew names:\n",
      "\u001b[36m•\u001b[39m `1` -> `1...2`\n",
      "\u001b[36m•\u001b[39m `1` -> `1...3`\n",
      "\u001b[36m•\u001b[39m `0` -> `0...5`\n",
      "\u001b[36m•\u001b[39m `?` -> `?...6`\n",
      "\u001b[36m•\u001b[39m `0` -> `0...7`\n",
      "\u001b[36m•\u001b[39m `0` -> `0...9`\n",
      "\u001b[36m•\u001b[39m `1` -> `1...11`\n",
      "\u001b[36m•\u001b[39m `?` -> `?...12`\n",
      "\u001b[36m•\u001b[39m `?` -> `?...13`\n",
      "\u001b[36m•\u001b[39m `1` -> `1...14`\n",
      "\u001b[1mRows: \u001b[22m\u001b[34m122\u001b[39m \u001b[1mColumns: \u001b[22m\u001b[34m14\u001b[39m\n",
      "\u001b[36m──\u001b[39m \u001b[1mColumn specification\u001b[22m \u001b[36m────────────────────────────────────────────────────────\u001b[39m\n",
      "\u001b[1mDelimiter:\u001b[22m \",\"\n",
      "\u001b[31mchr\u001b[39m (9): 95, ?...6, 0...7, 127, 0...9, .7, 1...11, ?...12, ?...13\n",
      "\u001b[32mdbl\u001b[39m (5): 32, 1...2, 1...3, 0...5, 1...14\n",
      "\n",
      "\u001b[36mℹ\u001b[39m Use `spec()` to retrieve the full column specification for this data.\n",
      "\u001b[36mℹ\u001b[39m Specify the column types or set `show_col_types = FALSE` to quiet this message.\n",
      "\u001b[1m\u001b[22mNew names:\n",
      "\u001b[36m•\u001b[39m `1` -> `1...2`\n",
      "\u001b[36m•\u001b[39m `1` -> `1...7`\n",
      "\u001b[36m•\u001b[39m `1` -> `1...9`\n",
      "\u001b[36m•\u001b[39m `2` -> `2...11`\n",
      "\u001b[36m•\u001b[39m `?` -> `?...12`\n",
      "\u001b[36m•\u001b[39m `?` -> `?...13`\n",
      "\u001b[36m•\u001b[39m `2` -> `2...14`\n",
      "\u001b[1mRows: \u001b[22m\u001b[34m199\u001b[39m \u001b[1mColumns: \u001b[22m\u001b[34m14\u001b[39m\n",
      "\u001b[36m──\u001b[39m \u001b[1mColumn specification\u001b[22m \u001b[36m────────────────────────────────────────────────────────\u001b[39m\n",
      "\u001b[1mDelimiter:\u001b[22m \",\"\n",
      "\u001b[31mchr\u001b[39m (9): 140, 260, 0, 112, 1...9, 3, 2...11, ?...12, ?...13\n",
      "\u001b[32mdbl\u001b[39m (5): 63, 1...2, 4, 1...7, 2...14\n",
      "\n",
      "\u001b[36mℹ\u001b[39m Use `spec()` to retrieve the full column specification for this data.\n",
      "\u001b[36mℹ\u001b[39m Specify the column types or set `show_col_types = FALSE` to quiet this message.\n"
     ]
    }
   ],
   "source": [
    "cleveland<-read_csv(\"data/heart_disease/processed.cleveland.data\")\n",
    "hungarian<-read_csv(\"data/heart_disease/processed.hungarian.data\")\n",
    "switzerland<-read_csv(\"data/heart_disease/processed.switzerland.data\")\n",
    "va<-read_csv(\"data/heart_disease/processed.va.data\")"
   ]
  },
  {
   "cell_type": "code",
   "execution_count": 11,
   "id": "de966e9e-36d2-4588-9310-76b9d4504ddd",
   "metadata": {},
   "outputs": [
    {
     "data": {
      "text/html": [
       "<table class=\"dataframe\">\n",
       "<caption>A tibble: 6 × 14</caption>\n",
       "<thead>\n",
       "\t<tr><th scope=col>63</th><th scope=col>1...2</th><th scope=col>4</th><th scope=col>140</th><th scope=col>260</th><th scope=col>0</th><th scope=col>1...7</th><th scope=col>112</th><th scope=col>1...9</th><th scope=col>3</th><th scope=col>2...11</th><th scope=col>?...12</th><th scope=col>?...13</th><th scope=col>2...14</th></tr>\n",
       "\t<tr><th scope=col>&lt;dbl&gt;</th><th scope=col>&lt;dbl&gt;</th><th scope=col>&lt;dbl&gt;</th><th scope=col>&lt;chr&gt;</th><th scope=col>&lt;chr&gt;</th><th scope=col>&lt;chr&gt;</th><th scope=col>&lt;dbl&gt;</th><th scope=col>&lt;chr&gt;</th><th scope=col>&lt;chr&gt;</th><th scope=col>&lt;chr&gt;</th><th scope=col>&lt;chr&gt;</th><th scope=col>&lt;chr&gt;</th><th scope=col>&lt;chr&gt;</th><th scope=col>&lt;dbl&gt;</th></tr>\n",
       "</thead>\n",
       "<tbody>\n",
       "\t<tr><td>44</td><td>1</td><td>4</td><td>130</td><td>209</td><td>0</td><td>1</td><td>127</td><td>0</td><td>0   </td><td>?</td><td>?</td><td>?</td><td>0</td></tr>\n",
       "\t<tr><td>60</td><td>1</td><td>4</td><td>132</td><td>218</td><td>0</td><td>1</td><td>140</td><td>1</td><td>1.5 </td><td>3</td><td>?</td><td>?</td><td>2</td></tr>\n",
       "\t<tr><td>55</td><td>1</td><td>4</td><td>142</td><td>228</td><td>0</td><td>1</td><td>149</td><td>1</td><td>2.5 </td><td>1</td><td>?</td><td>?</td><td>1</td></tr>\n",
       "\t<tr><td>66</td><td>1</td><td>3</td><td>110</td><td>213</td><td>1</td><td>2</td><td>99 </td><td>1</td><td>1.3 </td><td>2</td><td>?</td><td>?</td><td>0</td></tr>\n",
       "\t<tr><td>66</td><td>1</td><td>3</td><td>120</td><td>0  </td><td>0</td><td>1</td><td>120</td><td>0</td><td>-0.5</td><td>1</td><td>?</td><td>?</td><td>0</td></tr>\n",
       "\t<tr><td>65</td><td>1</td><td>4</td><td>150</td><td>236</td><td>1</td><td>1</td><td>105</td><td>1</td><td>0   </td><td>?</td><td>?</td><td>?</td><td>3</td></tr>\n",
       "</tbody>\n",
       "</table>\n"
      ],
      "text/latex": [
       "A tibble: 6 × 14\n",
       "\\begin{tabular}{llllllllllllll}\n",
       " 63 & 1...2 & 4 & 140 & 260 & 0 & 1...7 & 112 & 1...9 & 3 & 2...11 & ?...12 & ?...13 & 2...14\\\\\n",
       " <dbl> & <dbl> & <dbl> & <chr> & <chr> & <chr> & <dbl> & <chr> & <chr> & <chr> & <chr> & <chr> & <chr> & <dbl>\\\\\n",
       "\\hline\n",
       "\t 44 & 1 & 4 & 130 & 209 & 0 & 1 & 127 & 0 & 0    & ? & ? & ? & 0\\\\\n",
       "\t 60 & 1 & 4 & 132 & 218 & 0 & 1 & 140 & 1 & 1.5  & 3 & ? & ? & 2\\\\\n",
       "\t 55 & 1 & 4 & 142 & 228 & 0 & 1 & 149 & 1 & 2.5  & 1 & ? & ? & 1\\\\\n",
       "\t 66 & 1 & 3 & 110 & 213 & 1 & 2 & 99  & 1 & 1.3  & 2 & ? & ? & 0\\\\\n",
       "\t 66 & 1 & 3 & 120 & 0   & 0 & 1 & 120 & 0 & -0.5 & 1 & ? & ? & 0\\\\\n",
       "\t 65 & 1 & 4 & 150 & 236 & 1 & 1 & 105 & 1 & 0    & ? & ? & ? & 3\\\\\n",
       "\\end{tabular}\n"
      ],
      "text/markdown": [
       "\n",
       "A tibble: 6 × 14\n",
       "\n",
       "| 63 &lt;dbl&gt; | 1...2 &lt;dbl&gt; | 4 &lt;dbl&gt; | 140 &lt;chr&gt; | 260 &lt;chr&gt; | 0 &lt;chr&gt; | 1...7 &lt;dbl&gt; | 112 &lt;chr&gt; | 1...9 &lt;chr&gt; | 3 &lt;chr&gt; | 2...11 &lt;chr&gt; | ?...12 &lt;chr&gt; | ?...13 &lt;chr&gt; | 2...14 &lt;dbl&gt; |\n",
       "|---|---|---|---|---|---|---|---|---|---|---|---|---|---|\n",
       "| 44 | 1 | 4 | 130 | 209 | 0 | 1 | 127 | 0 | 0    | ? | ? | ? | 0 |\n",
       "| 60 | 1 | 4 | 132 | 218 | 0 | 1 | 140 | 1 | 1.5  | 3 | ? | ? | 2 |\n",
       "| 55 | 1 | 4 | 142 | 228 | 0 | 1 | 149 | 1 | 2.5  | 1 | ? | ? | 1 |\n",
       "| 66 | 1 | 3 | 110 | 213 | 1 | 2 | 99  | 1 | 1.3  | 2 | ? | ? | 0 |\n",
       "| 66 | 1 | 3 | 120 | 0   | 0 | 1 | 120 | 0 | -0.5 | 1 | ? | ? | 0 |\n",
       "| 65 | 1 | 4 | 150 | 236 | 1 | 1 | 105 | 1 | 0    | ? | ? | ? | 3 |\n",
       "\n"
      ],
      "text/plain": [
       "  63 1...2 4 140 260 0 1...7 112 1...9 3    2...11 ?...12 ?...13 2...14\n",
       "1 44 1     4 130 209 0 1     127 0     0    ?      ?      ?      0     \n",
       "2 60 1     4 132 218 0 1     140 1     1.5  3      ?      ?      2     \n",
       "3 55 1     4 142 228 0 1     149 1     2.5  1      ?      ?      1     \n",
       "4 66 1     3 110 213 1 2     99  1     1.3  2      ?      ?      0     \n",
       "5 66 1     3 120 0   0 1     120 0     -0.5 1      ?      ?      0     \n",
       "6 65 1     4 150 236 1 1     105 1     0    ?      ?      ?      3     "
      ]
     },
     "metadata": {},
     "output_type": "display_data"
    }
   ],
   "source": [
    "head(va)"
   ]
  },
  {
   "cell_type": "code",
   "execution_count": null,
   "id": "5c15979d-a591-450c-baf0-8c2bc8b75654",
   "metadata": {},
   "outputs": [],
   "source": []
  }
 ],
 "metadata": {
  "kernelspec": {
   "display_name": "R",
   "language": "R",
   "name": "ir"
  },
  "language_info": {
   "codemirror_mode": "r",
   "file_extension": ".r",
   "mimetype": "text/x-r-source",
   "name": "R",
   "pygments_lexer": "r",
   "version": "4.3.1"
  }
 },
 "nbformat": 4,
 "nbformat_minor": 5
}
